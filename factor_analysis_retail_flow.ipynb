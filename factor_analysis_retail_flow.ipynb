{
 "cells": [
  {
   "cell_type": "code",
   "execution_count": null,
   "id": "2eb7ee5c",
   "metadata": {},
   "outputs": [],
   "source": [
    "\n",
    "from analysis.utils import get_env\n",
    "\n",
    "from analysis.alphalens import factor_analysis\n",
    "from analysis.price import get_price_data\n",
    "from api.portfolio.factors import get_portfolio_factors_historical\n",
    "from api.portfolio.tickers import get_tickers\n",
    "\n",
    "UNRAVEL_API_KEY = get_env(\"UNRAVEL_API_KEY\")\n",
    "portfolio = \"retail_flow\"\n",
    "\n",
    "available_tickers = get_tickers(portfolio, UNRAVEL_API_KEY, universe_size=\"30\")\n",
    "historical_factors = get_portfolio_factors_historical(\n",
    "    portfolio, available_tickers, UNRAVEL_API_KEY\n",
    ")\n",
    "\n",
    "underlying = get_price_data(available_tickers)\n",
    "\n",
    "columns_intersection = historical_factors.columns.intersection(underlying.columns)\n",
    "factor_analysis(historical_factors[columns_intersection], underlying)"
   ]
  },
  {
   "cell_type": "code",
   "execution_count": null,
   "id": "c6e337b2",
   "metadata": {},
   "outputs": [],
   "source": []
  }
 ],
 "metadata": {
  "jupytext": {
   "cell_metadata_filter": "-all",
   "main_language": "python",
   "notebook_metadata_filter": "-all"
  }
 },
 "nbformat": 4,
 "nbformat_minor": 5
}
