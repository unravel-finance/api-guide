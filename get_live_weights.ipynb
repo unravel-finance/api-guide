{
 "cells": [
  {
   "cell_type": "code",
   "execution_count": 1,
   "id": "4158999c",
   "metadata": {},
   "outputs": [
    {
     "name": "stdout",
     "output_type": "stream",
     "text": [
      "BTC    0.111697\n",
      "ETH    0.141483\n",
      "LTC    0.148192\n",
      "XRP    0.128506\n",
      "TRX    0.144940\n",
      "Name: 2025-08-04, dtype: float64\n"
     ]
    }
   ],
   "source": [
    "from analysis.utils import get_env\n",
    "\n",
    "from api import get_live_weights\n",
    "\n",
    "UNRAVEL_API_KEY = get_env(\"UNRAVEL_API_KEY\")\n",
    "portfolio = \"beta.5\"\n",
    "\n",
    "live_weights = get_live_weights(portfolio, UNRAVEL_API_KEY)\n",
    "print(live_weights)"
   ]
  }
 ],
 "metadata": {
  "jupytext": {
   "cell_metadata_filter": "-all",
   "main_language": "python",
   "notebook_metadata_filter": "-all"
  },
  "kernelspec": {
   "display_name": "Python 3",
   "language": "python",
   "name": "python3"
  },
  "language_info": {
   "codemirror_mode": {
    "name": "ipython",
    "version": 3
   },
   "file_extension": ".py",
   "mimetype": "text/x-python",
   "name": "python",
   "nbconvert_exporter": "python",
   "pygments_lexer": "ipython3",
   "version": "3.12.0"
  }
 },
 "nbformat": 4,
 "nbformat_minor": 5
}
