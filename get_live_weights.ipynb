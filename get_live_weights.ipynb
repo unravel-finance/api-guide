{
 "cells": [
  {
   "cell_type": "code",
   "execution_count": null,
   "id": "323ad2e0",
   "metadata": {},
   "outputs": [],
   "source": [
    "from analysis.utils import get_env"
   ]
  },
  {
   "cell_type": "code",
   "execution_count": null,
   "id": "210d0ba4",
   "metadata": {},
   "outputs": [],
   "source": [
    "from api import get_live_weights"
   ]
  },
  {
   "cell_type": "code",
   "execution_count": null,
   "id": "234bf7fb",
   "metadata": {},
   "outputs": [],
   "source": [
    "UNRAVEL_API_KEY = get_env(\"UNRAVEL_API_KEY\")\n",
    "portfolio = \"beta.5\""
   ]
  },
  {
   "cell_type": "code",
   "execution_count": null,
   "id": "18c02d31",
   "metadata": {},
   "outputs": [],
   "source": [
    "live_weights = get_live_weights(portfolio, UNRAVEL_API_KEY)\n",
    "print(live_weights)"
   ]
  }
 ],
 "metadata": {
  "jupytext": {
   "cell_metadata_filter": "-all",
   "main_language": "python",
   "notebook_metadata_filter": "-all"
  }
 },
 "nbformat": 4,
 "nbformat_minor": 5
}
