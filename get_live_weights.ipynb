{
 "cells": [
  {
   "cell_type": "code",
   "execution_count": null,
   "id": "09495fa5",
   "metadata": {},
   "outputs": [],
   "source": [
    "from analysis.utils import get_env\n",
    "\n",
    "from api import get_live_weights\n",
    "\n",
    "UNRAVEL_API_KEY = get_env(\"UNRAVEL_API_KEY\")\n",
    "portfolio = \"beta.5\"\n",
    "\n",
    "live_weights = get_live_weights(portfolio, UNRAVEL_API_KEY)\n",
    "print(live_weights)"
   ]
  }
 ],
 "metadata": {
  "jupytext": {
   "cell_metadata_filter": "-all",
   "main_language": "python",
   "notebook_metadata_filter": "-all"
  }
 },
 "nbformat": 4,
 "nbformat_minor": 5
}
