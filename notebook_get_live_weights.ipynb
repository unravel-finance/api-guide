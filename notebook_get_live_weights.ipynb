{
 "cells": [
  {
   "cell_type": "code",
   "execution_count": 1,
   "id": "71a519e1",
   "metadata": {},
   "outputs": [],
   "source": [
    "from finml_utils import get_env"
   ]
  },
  {
   "cell_type": "code",
   "execution_count": 2,
   "id": "a5b0438c",
   "metadata": {},
   "outputs": [],
   "source": [
    "from api import get_live_weights"
   ]
  },
  {
   "cell_type": "code",
   "execution_count": 3,
   "id": "9110e01c",
   "metadata": {},
   "outputs": [],
   "source": [
    "UNRAVEL_API_KEY = get_env(\"UNRAVEL_API_KEY\")\n",
    "portfolio = \"beta.5\""
   ]
  },
  {
   "cell_type": "code",
   "execution_count": 4,
   "id": "3b6f8201",
   "metadata": {},
   "outputs": [
    {
     "name": "stdout",
     "output_type": "stream",
     "text": [
      "BTC    0.111697\n",
      "ETH    0.141483\n",
      "LTC    0.148192\n",
      "XRP    0.128506\n",
      "TRX    0.144940\n",
      "Name: 2025-08-04, dtype: float64\n"
     ]
    }
   ],
   "source": [
    "live_weights = get_live_weights(portfolio, UNRAVEL_API_KEY)\n",
    "print(live_weights)"
   ]
  }
 ],
 "metadata": {
  "jupytext": {
   "cell_metadata_filter": "-all",
   "main_language": "python",
   "notebook_metadata_filter": "-all"
  },
  "kernelspec": {
   "display_name": "Python 3",
   "language": "python",
   "name": "python3"
  },
  "language_info": {
   "codemirror_mode": {
    "name": "ipython",
    "version": 3
   },
   "file_extension": ".py",
   "mimetype": "text/x-python",
   "name": "python",
   "nbconvert_exporter": "python",
   "pygments_lexer": "ipython3",
   "version": "3.12.11"
  }
 },
 "nbformat": 4,
 "nbformat_minor": 5
}
