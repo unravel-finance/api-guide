{
 "cells": [
  {
   "cell_type": "code",
   "execution_count": null,
   "id": "2768341b",
   "metadata": {},
   "outputs": [],
   "source": [
    "from analysis.utils import get_env"
   ]
  },
  {
   "cell_type": "code",
   "execution_count": null,
   "id": "bb08ee45",
   "metadata": {},
   "outputs": [],
   "source": [
    "from analysis.backtest import backtest_portfolio\n",
    "from analysis.plot import plot_backtest_results\n",
    "from analysis.price import get_price_data, get_price_series\n",
    "from analysis.utils import rebase\n",
    "from api import get_portfolio_historical_weights"
   ]
  },
  {
   "cell_type": "code",
   "execution_count": null,
   "id": "b76dff67",
   "metadata": {
    "lines_to_next_cell": 2
   },
   "outputs": [],
   "source": [
    "UNRAVEL_API_KEY = get_env(\"UNRAVEL_API_KEY\")\n",
    "portfolio = \"beta.5\"\n",
    "start_date = \"2022-01-01\"\n",
    "end_date = \"2024-06-01\"\n",
    "benchmark_ticker = \"BTC\""
   ]
  },
  {
   "cell_type": "code",
   "execution_count": null,
   "id": "c42b5b14",
   "metadata": {},
   "outputs": [],
   "source": [
    "portfolio_historical_weights = get_portfolio_historical_weights(\n",
    "    portfolio,\n",
    "    UNRAVEL_API_KEY,\n",
    "    start_date,\n",
    "    end_date,\n",
    "    smoothing=None,  # This will use the default smoothing please see catalog for default values for each portfolio (https://unravel.finance/home/api/catalog/portfolios)\n",
    ")"
   ]
  },
  {
   "cell_type": "code",
   "execution_count": null,
   "id": "7bb22b0f",
   "metadata": {},
   "outputs": [],
   "source": [
    "underlying = get_price_data(\n",
    "    portfolio_historical_weights.columns, start_date, end_date\n",
    ")"
   ]
  },
  {
   "cell_type": "code",
   "execution_count": null,
   "id": "f0de630d",
   "metadata": {},
   "outputs": [],
   "source": [
    "if benchmark_ticker in underlying.columns:\n",
    "    benchmark = underlying[benchmark_ticker]\n",
    "else:\n",
    "    benchmark = get_price_series(\n",
    "        benchmark_ticker,\n",
    "        start_date,\n",
    "        end_date,\n",
    "    )"
   ]
  },
  {
   "cell_type": "code",
   "execution_count": null,
   "id": "c998cafd",
   "metadata": {},
   "outputs": [],
   "source": [
    "underlying_returns = underlying.pct_change()\n",
    "portfolio_returns, _ = backtest_portfolio(\n",
    "    weights=portfolio_historical_weights,\n",
    "    underlying=underlying_returns,\n",
    "    transaction_cost=0.001,\n",
    "    lag=0,\n",
    ")\n",
    "portfolio_cumulative_returns = (1 + portfolio_returns).cumprod()\n",
    "plot_backtest_results(\n",
    "    rebase(portfolio_cumulative_returns), rebase(benchmark), portfolio\n",
    ")"
   ]
  }
 ],
 "metadata": {
  "jupytext": {
   "cell_metadata_filter": "-all",
   "main_language": "python",
   "notebook_metadata_filter": "-all"
  }
 },
 "nbformat": 4,
 "nbformat_minor": 5
}
