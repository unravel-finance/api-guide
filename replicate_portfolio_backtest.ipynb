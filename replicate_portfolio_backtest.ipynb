{
 "cells": [
  {
   "cell_type": "code",
   "execution_count": null,
   "id": "cb7d8b3b",
   "metadata": {},
   "outputs": [],
   "source": [
    "from analysis.utils import get_env\n",
    "\n",
    "from analysis.backtest import backtest_portfolio\n",
    "from analysis.plot import plot_backtest_results\n",
    "from analysis.price import get_price_data\n",
    "from analysis.utils import rebase\n",
    "from api import get_portfolio_historical_weights\n",
    "\n",
    "UNRAVEL_API_KEY = get_env(\"UNRAVEL_API_KEY\")\n",
    "portfolio = \"quarta.40\"\n",
    "start_date = \"2020-01-01\"\n",
    "end_date = \"2025-01-01\"\n",
    "benchmark_ticker = \"BTC\"\n",
    "\n",
    "\n",
    "portfolio_historical_weights = get_portfolio_historical_weights(\n",
    "    portfolio,\n",
    "    UNRAVEL_API_KEY,\n",
    "    start_date,\n",
    "    end_date,\n",
    "    smoothing=None,  # This will use the default smoothing please see catalog for default values for each portfolio (https://unravel.finance/home/api/catalog/portfolios)\n",
    ")\n",
    "\n",
    "underlying = get_price_data(\n",
    "    portfolio_historical_weights.columns, start_date, end_date\n",
    ")\n",
    "\n",
    "if benchmark_ticker in underlying.columns:\n",
    "    benchmark = underlying[benchmark_ticker]\n",
    "else:\n",
    "    benchmark = get_price_data(\n",
    "        [benchmark_ticker],\n",
    "        start_date,\n",
    "        end_date,\n",
    "    )[benchmark_ticker]\n",
    "\n",
    "underlying_returns = underlying.pct_change()\n",
    "portfolio_returns, _ = backtest_portfolio(\n",
    "    weights=portfolio_historical_weights[underlying.columns],\n",
    "    underlying=underlying_returns,\n",
    "    transaction_cost=0.0005,\n",
    "    lag=0,\n",
    ")\n",
    "portfolio_cumulative_returns = (1 + portfolio_returns).cumprod()\n",
    "plot_backtest_results(\n",
    "    rebase(portfolio_cumulative_returns), rebase(benchmark), portfolio\n",
    ")"
   ]
  },
  {
   "cell_type": "code",
   "execution_count": null,
   "id": "43f3d3b4",
   "metadata": {},
   "outputs": [],
   "source": []
  }
 ],
 "metadata": {
  "jupytext": {
   "cell_metadata_filter": "-all",
   "main_language": "python",
   "notebook_metadata_filter": "-all"
  }
 },
 "nbformat": 4,
 "nbformat_minor": 5
}
