{
 "cells": [
  {
   "cell_type": "code",
   "execution_count": null,
   "id": "bb5a57ea",
   "metadata": {},
   "outputs": [],
   "source": [
    "\n",
    "from analysis.utils import get_env\n",
    "\n",
    "from analysis.alphalens import factor_analysis\n",
    "from analysis.price import get_price_data\n",
    "from api.portfolio.factors import get_portfolio_factors_historical\n",
    "from api.portfolio.tickers import get_tickers\n",
    "\n",
    "UNRAVEL_API_KEY = get_env(\"UNRAVEL_API_KEY\")\n",
    "portfolio = \"carry_enhanced\"\n",
    "\n",
    "available_tickers = get_tickers(portfolio, UNRAVEL_API_KEY, universe_size=\"20\")\n",
    "historical_factors = get_portfolio_factors_historical(\n",
    "    portfolio, available_tickers, UNRAVEL_API_KEY\n",
    ")\n",
    "\n",
    "underlying = get_price_data(available_tickers)\n",
    "\n",
    "\n",
    "factor_analysis(historical_factors.loc[:, underlying.columns], underlying)"
   ]
  },
  {
   "cell_type": "code",
   "execution_count": null,
   "id": "b6cb4e5d",
   "metadata": {},
   "outputs": [],
   "source": []
  }
 ],
 "metadata": {
  "jupytext": {
   "cell_metadata_filter": "-all",
   "main_language": "python",
   "notebook_metadata_filter": "-all"
  }
 },
 "nbformat": 4,
 "nbformat_minor": 5
}
