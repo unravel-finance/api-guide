{
 "cells": [
  {
   "cell_type": "code",
   "execution_count": null,
   "id": "5dfd0f0f",
   "metadata": {},
   "outputs": [],
   "source": [
    "\n",
    "import matplotlib.pyplot as plt\n",
    "import pandas as pd\n",
    "import seaborn as sns\n",
    "\n",
    "from analysis.utils import get_env\n",
    "from api.portfolio.returns import get_portfolio_returns\n",
    "\n",
    "UNRAVEL_API_KEY = get_env(\"UNRAVEL_API_KEY\")\n",
    "\n",
    "portfolios = [\n",
    "    \"momentum_enhanced.40\",\n",
    "    \"carry_enhanced.40\",\n",
    "    \"retail_flow.40\",\n",
    "    \"altair.40\",\n",
    "    \"open_interest_divergence.40\",\n",
    "    \"relative_illiquidity.40\",\n",
    "]\n",
    "\n",
    "returns_df = pd.DataFrame(\n",
    "    [get_portfolio_returns(portfolio, UNRAVEL_API_KEY) for portfolio in portfolios]\n",
    ")"
   ]
  },
  {
   "cell_type": "code",
   "execution_count": null,
   "id": "6119359c",
   "metadata": {},
   "outputs": [],
   "source": [
    "\n",
    "correlation_matrix = returns_df.corr()\n",
    "\n",
    "plt.figure(figsize=(8, 6))\n",
    "sns.heatmap(\n",
    "    correlation_matrix,\n",
    "    annot=True,\n",
    "    cmap=\"coolwarm\",\n",
    "    center=0,\n",
    "    square=True,\n",
    "    fmt=\".3f\",\n",
    "    cbar_kws={\"shrink\": 0.8},\n",
    ")\n",
    "plt.title(\"Cross-Sectional Returns Correlation Matrix\")\n",
    "plt.tight_layout()\n",
    "plt.show()"
   ]
  },
  {
   "cell_type": "code",
   "execution_count": null,
   "id": "ecec4f8e",
   "metadata": {},
   "outputs": [],
   "source": [
    "\n",
    "print(\"Correlation Statistics:\")\n",
    "print(f\"Correlation: {correlation_matrix.iloc[0, 1]:.4f}\")\n",
    "print(\n",
    "    f\"Mean return momentum_enhanced.40: {returns_df['momentum_enhanced.40'].mean():.4f}\"\n",
    ")\n",
    "print(f\"Mean return carry_enhanced.40: {returns_df['carry_enhanced.40'].mean():.4f}\")\n",
    "print(\n",
    "    f\"Volatility momentum_enhanced.40: {returns_df['momentum_enhanced.40'].std():.4f}\"\n",
    ")\n",
    "print(f\"Volatility carry_enhanced.40: {returns_df['carry_enhanced.40'].std():.4f}\")"
   ]
  },
  {
   "cell_type": "code",
   "execution_count": null,
   "id": "b00c1f73",
   "metadata": {},
   "outputs": [],
   "source": []
  }
 ],
 "metadata": {
  "jupytext": {
   "cell_metadata_filter": "-all",
   "main_language": "python",
   "notebook_metadata_filter": "-all"
  }
 },
 "nbformat": 4,
 "nbformat_minor": 5
}
