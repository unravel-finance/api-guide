{
 "cells": [
  {
   "cell_type": "code",
   "execution_count": 1,
   "id": "ed52b7f9",
   "metadata": {},
   "outputs": [
    {
     "ename": "JSONDecodeError",
     "evalue": "Expecting value: line 1 column 1 (char 0)",
     "output_type": "error",
     "traceback": [
      "\u001b[31m---------------------------------------------------------------------------\u001b[39m",
      "\u001b[31mJSONDecodeError\u001b[39m                           Traceback (most recent call last)",
      "\u001b[36mFile \u001b[39m\u001b[32m~/micromamba/envs/unravel-backend/lib/python3.12/site-packages/requests/models.py:976\u001b[39m, in \u001b[36mResponse.json\u001b[39m\u001b[34m(self, **kwargs)\u001b[39m\n\u001b[32m    975\u001b[39m \u001b[38;5;28;01mtry\u001b[39;00m:\n\u001b[32m--> \u001b[39m\u001b[32m976\u001b[39m     \u001b[38;5;28;01mreturn\u001b[39;00m \u001b[43mcomplexjson\u001b[49m\u001b[43m.\u001b[49m\u001b[43mloads\u001b[49m\u001b[43m(\u001b[49m\u001b[38;5;28;43mself\u001b[39;49m\u001b[43m.\u001b[49m\u001b[43mtext\u001b[49m\u001b[43m,\u001b[49m\u001b[43m \u001b[49m\u001b[43m*\u001b[49m\u001b[43m*\u001b[49m\u001b[43mkwargs\u001b[49m\u001b[43m)\u001b[49m\n\u001b[32m    977\u001b[39m \u001b[38;5;28;01mexcept\u001b[39;00m JSONDecodeError \u001b[38;5;28;01mas\u001b[39;00m e:\n\u001b[32m    978\u001b[39m     \u001b[38;5;66;03m# Catch JSON-related errors and raise as requests.JSONDecodeError\u001b[39;00m\n\u001b[32m    979\u001b[39m     \u001b[38;5;66;03m# This aliases json.JSONDecodeError and simplejson.JSONDecodeError\u001b[39;00m\n",
      "\u001b[36mFile \u001b[39m\u001b[32m~/micromamba/envs/unravel-backend/lib/python3.12/site-packages/simplejson/__init__.py:514\u001b[39m, in \u001b[36mloads\u001b[39m\u001b[34m(s, encoding, cls, object_hook, parse_float, parse_int, parse_constant, object_pairs_hook, use_decimal, allow_nan, **kw)\u001b[39m\n\u001b[32m    510\u001b[39m \u001b[38;5;28;01mif\u001b[39;00m (\u001b[38;5;28mcls\u001b[39m \u001b[38;5;129;01mis\u001b[39;00m \u001b[38;5;28;01mNone\u001b[39;00m \u001b[38;5;129;01mand\u001b[39;00m encoding \u001b[38;5;129;01mis\u001b[39;00m \u001b[38;5;28;01mNone\u001b[39;00m \u001b[38;5;129;01mand\u001b[39;00m object_hook \u001b[38;5;129;01mis\u001b[39;00m \u001b[38;5;28;01mNone\u001b[39;00m \u001b[38;5;129;01mand\u001b[39;00m\n\u001b[32m    511\u001b[39m         parse_int \u001b[38;5;129;01mis\u001b[39;00m \u001b[38;5;28;01mNone\u001b[39;00m \u001b[38;5;129;01mand\u001b[39;00m parse_float \u001b[38;5;129;01mis\u001b[39;00m \u001b[38;5;28;01mNone\u001b[39;00m \u001b[38;5;129;01mand\u001b[39;00m\n\u001b[32m    512\u001b[39m         parse_constant \u001b[38;5;129;01mis\u001b[39;00m \u001b[38;5;28;01mNone\u001b[39;00m \u001b[38;5;129;01mand\u001b[39;00m object_pairs_hook \u001b[38;5;129;01mis\u001b[39;00m \u001b[38;5;28;01mNone\u001b[39;00m\n\u001b[32m    513\u001b[39m         \u001b[38;5;129;01mand\u001b[39;00m \u001b[38;5;129;01mnot\u001b[39;00m use_decimal \u001b[38;5;129;01mand\u001b[39;00m \u001b[38;5;129;01mnot\u001b[39;00m allow_nan \u001b[38;5;129;01mand\u001b[39;00m \u001b[38;5;129;01mnot\u001b[39;00m kw):\n\u001b[32m--> \u001b[39m\u001b[32m514\u001b[39m     \u001b[38;5;28;01mreturn\u001b[39;00m \u001b[43m_default_decoder\u001b[49m\u001b[43m.\u001b[49m\u001b[43mdecode\u001b[49m\u001b[43m(\u001b[49m\u001b[43ms\u001b[49m\u001b[43m)\u001b[49m\n\u001b[32m    515\u001b[39m \u001b[38;5;28;01mif\u001b[39;00m \u001b[38;5;28mcls\u001b[39m \u001b[38;5;129;01mis\u001b[39;00m \u001b[38;5;28;01mNone\u001b[39;00m:\n",
      "\u001b[36mFile \u001b[39m\u001b[32m~/micromamba/envs/unravel-backend/lib/python3.12/site-packages/simplejson/decoder.py:386\u001b[39m, in \u001b[36mJSONDecoder.decode\u001b[39m\u001b[34m(self, s, _w, _PY3)\u001b[39m\n\u001b[32m    385\u001b[39m     s = \u001b[38;5;28mstr\u001b[39m(s, \u001b[38;5;28mself\u001b[39m.encoding)\n\u001b[32m--> \u001b[39m\u001b[32m386\u001b[39m obj, end = \u001b[38;5;28;43mself\u001b[39;49m\u001b[43m.\u001b[49m\u001b[43mraw_decode\u001b[49m\u001b[43m(\u001b[49m\u001b[43ms\u001b[49m\u001b[43m)\u001b[49m\n\u001b[32m    387\u001b[39m end = _w(s, end).end()\n",
      "\u001b[36mFile \u001b[39m\u001b[32m~/micromamba/envs/unravel-backend/lib/python3.12/site-packages/simplejson/decoder.py:416\u001b[39m, in \u001b[36mJSONDecoder.raw_decode\u001b[39m\u001b[34m(self, s, idx, _w, _PY3)\u001b[39m\n\u001b[32m    415\u001b[39m         idx += \u001b[32m3\u001b[39m\n\u001b[32m--> \u001b[39m\u001b[32m416\u001b[39m \u001b[38;5;28;01mreturn\u001b[39;00m \u001b[38;5;28;43mself\u001b[39;49m\u001b[43m.\u001b[49m\u001b[43mscan_once\u001b[49m\u001b[43m(\u001b[49m\u001b[43ms\u001b[49m\u001b[43m,\u001b[49m\u001b[43m \u001b[49m\u001b[43midx\u001b[49m\u001b[43m=\u001b[49m\u001b[43m_w\u001b[49m\u001b[43m(\u001b[49m\u001b[43ms\u001b[49m\u001b[43m,\u001b[49m\u001b[43m \u001b[49m\u001b[43midx\u001b[49m\u001b[43m)\u001b[49m\u001b[43m.\u001b[49m\u001b[43mend\u001b[49m\u001b[43m(\u001b[49m\u001b[43m)\u001b[49m\u001b[43m)\u001b[49m\n",
      "\u001b[31mJSONDecodeError\u001b[39m: Expecting value: line 1 column 1 (char 0)",
      "\nDuring handling of the above exception, another exception occurred:\n",
      "\u001b[31mJSONDecodeError\u001b[39m                           Traceback (most recent call last)",
      "\u001b[36mCell\u001b[39m\u001b[36m \u001b[39m\u001b[32mIn[1]\u001b[39m\u001b[32m, line 13\u001b[39m\n\u001b[32m     10\u001b[39m returns_data = {}\n\u001b[32m     12\u001b[39m \u001b[38;5;28;01mfor\u001b[39;00m portfolio \u001b[38;5;129;01min\u001b[39;00m portfolios:\n\u001b[32m---> \u001b[39m\u001b[32m13\u001b[39m     returns = \u001b[43mget_portfolio_returns\u001b[49m\u001b[43m(\u001b[49m\u001b[43mportfolio\u001b[49m\u001b[43m,\u001b[49m\u001b[43m \u001b[49m\u001b[43mUNRAVEL_API_KEY\u001b[49m\u001b[43m)\u001b[49m\n\u001b[32m     14\u001b[39m     returns_data[portfolio] = returns\n\u001b[32m     16\u001b[39m returns_df = pd.DataFrame(returns_data)\n",
      "\u001b[36mFile \u001b[39m\u001b[32m~/Documents/Code/api-snippets/api/portfolio/returns.py:39\u001b[39m, in \u001b[36mget_portfolio_returns\u001b[39m\u001b[34m(portfolioId, API_KEY, start_date, end_date, smoothing)\u001b[39m\n\u001b[32m     35\u001b[39m headers = {\u001b[33m\"\u001b[39m\u001b[33mX-API-KEY\u001b[39m\u001b[33m\"\u001b[39m: API_KEY}\n\u001b[32m     36\u001b[39m response = requests.get(url, headers=headers, params=params)\n\u001b[32m     37\u001b[39m \u001b[38;5;28;01massert\u001b[39;00m (\n\u001b[32m     38\u001b[39m     response.status_code == \u001b[32m200\u001b[39m\n\u001b[32m---> \u001b[39m\u001b[32m39\u001b[39m ), \u001b[33mf\u001b[39m\u001b[33m\"\u001b[39m\u001b[33mError fetching returns for \u001b[39m\u001b[38;5;132;01m{\u001b[39;00mportfolioId\u001b[38;5;132;01m}\u001b[39;00m\u001b[33m, response: \u001b[39m\u001b[38;5;132;01m{\u001b[39;00m\u001b[43mresponse\u001b[49m\u001b[43m.\u001b[49m\u001b[43mjson\u001b[49m\u001b[43m(\u001b[49m\u001b[43m)\u001b[49m\u001b[38;5;132;01m}\u001b[39;00m\u001b[33m\"\u001b[39m\n\u001b[32m     41\u001b[39m response = response.json()\n\u001b[32m     42\u001b[39m \u001b[38;5;28;01mreturn\u001b[39;00m pd.DataFrame(\n\u001b[32m     43\u001b[39m     response[\u001b[33m\"\u001b[39m\u001b[33mdata\u001b[39m\u001b[33m\"\u001b[39m],\n\u001b[32m     44\u001b[39m     index=pd.to_datetime(response[\u001b[33m\"\u001b[39m\u001b[33mindex\u001b[39m\u001b[33m\"\u001b[39m]),\n\u001b[32m     45\u001b[39m ).squeeze()\n",
      "\u001b[36mFile \u001b[39m\u001b[32m~/micromamba/envs/unravel-backend/lib/python3.12/site-packages/requests/models.py:980\u001b[39m, in \u001b[36mResponse.json\u001b[39m\u001b[34m(self, **kwargs)\u001b[39m\n\u001b[32m    976\u001b[39m     \u001b[38;5;28;01mreturn\u001b[39;00m complexjson.loads(\u001b[38;5;28mself\u001b[39m.text, **kwargs)\n\u001b[32m    977\u001b[39m \u001b[38;5;28;01mexcept\u001b[39;00m JSONDecodeError \u001b[38;5;28;01mas\u001b[39;00m e:\n\u001b[32m    978\u001b[39m     \u001b[38;5;66;03m# Catch JSON-related errors and raise as requests.JSONDecodeError\u001b[39;00m\n\u001b[32m    979\u001b[39m     \u001b[38;5;66;03m# This aliases json.JSONDecodeError and simplejson.JSONDecodeError\u001b[39;00m\n\u001b[32m--> \u001b[39m\u001b[32m980\u001b[39m     \u001b[38;5;28;01mraise\u001b[39;00m RequestsJSONDecodeError(e.msg, e.doc, e.pos)\n",
      "\u001b[31mJSONDecodeError\u001b[39m: Expecting value: line 1 column 1 (char 0)"
     ]
    }
   ],
   "source": [
    "\n",
    "import pandas as pd\n",
    "import matplotlib.pyplot as plt\n",
    "import seaborn as sns\n",
    "from analysis.utils import get_env\n",
    "from api.portfolio.returns import get_portfolio_returns\n",
    "\n",
    "UNRAVEL_API_KEY = get_env(\"UNRAVEL_API_KEY\")\n",
    "\n",
    "portfolios = [\"momentum_enhanced.40\", \"carry_enhanced.40\", \"retail_flow.40\"]\n",
    "returns_data = {}\n",
    "\n",
    "for portfolio in portfolios:\n",
    "    returns = get_portfolio_returns(portfolio, UNRAVEL_API_KEY)\n",
    "    returns_data[portfolio] = returns\n",
    "\n",
    "returns_df = pd.DataFrame(returns_data)"
   ]
  },
  {
   "cell_type": "code",
   "execution_count": null,
   "id": "a5f04cc6",
   "metadata": {},
   "outputs": [],
   "source": [
    "\n",
    "correlation_matrix = returns_df.corr()\n",
    "\n",
    "plt.figure(figsize=(8, 6))\n",
    "sns.heatmap(correlation_matrix, annot=True, cmap='coolwarm', center=0, \n",
    "            square=True, fmt='.3f', cbar_kws={'shrink': 0.8})\n",
    "plt.title('Factor Portfolio Returns Correlation Matrix')\n",
    "plt.tight_layout()\n",
    "plt.show()"
   ]
  },
  {
   "cell_type": "code",
   "execution_count": null,
   "id": "3b1d9c0a",
   "metadata": {},
   "outputs": [],
   "source": [
    "\n",
    "print(\"Correlation Statistics:\")\n",
    "print(f\"Correlation: {correlation_matrix.iloc[0, 1]:.4f}\")\n",
    "print(f\"Mean return momentum_enhanced.40: {returns_df['momentum_enhanced.40'].mean():.4f}\")\n",
    "print(f\"Mean return carry_enhanced.40: {returns_df['carry_enhanced.40'].mean():.4f}\")\n",
    "print(f\"Volatility momentum_enhanced.40: {returns_df['momentum_enhanced.40'].std():.4f}\")\n",
    "print(f\"Volatility carry_enhanced.40: {returns_df['carry_enhanced.40'].std():.4f}\")"
   ]
  },
  {
   "cell_type": "code",
   "execution_count": null,
   "id": "f0d491d0",
   "metadata": {},
   "outputs": [],
   "source": []
  }
 ],
 "metadata": {
  "jupytext": {
   "cell_metadata_filter": "-all",
   "main_language": "python",
   "notebook_metadata_filter": "-all"
  },
  "kernelspec": {
   "display_name": "Python 3",
   "language": "python",
   "name": "python3"
  },
  "language_info": {
   "codemirror_mode": {
    "name": "ipython",
    "version": 3
   },
   "file_extension": ".py",
   "mimetype": "text/x-python",
   "name": "python",
   "nbconvert_exporter": "python",
   "pygments_lexer": "ipython3",
   "version": "3.12.11"
  }
 },
 "nbformat": 4,
 "nbformat_minor": 5
}
